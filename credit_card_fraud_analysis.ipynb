{
 "cells": [
  {
   "cell_type": "markdown",
   "id": "e99ba350",
   "metadata": {},
   "source": [
    "# 🕵️‍♂️ Credit Card Fraud Detection – PySpark Notebook\n",
    "Process, flatten, clean, and visualize JSON-formatted credit card transaction data."
   ]
  },
  {
   "cell_type": "code",
   "execution_count": null,
   "id": "d8a27021",
   "metadata": {},
   "outputs": [],
   "source": [
    "from pyspark.sql import SparkSession\n",
    "from pyspark.sql.functions import *\n",
    "from pyspark.sql.types import *\n",
    "\n",
    "spark = SparkSession.builder.appName(\"CreditCardFraudProcessing\").getOrCreate()"
   ]
  },
  {
   "cell_type": "code",
   "execution_count": null,
   "id": "eb9820ed",
   "metadata": {},
   "outputs": [],
   "source": [
    "# Load the raw JSON file\n",
    "df_raw = spark.read.json(\"path/to/data.json\")\n",
    "df_raw.printSchema()\n",
    "df_raw.show(3, truncate=False)"
   ]
  },
  {
   "cell_type": "code",
   "execution_count": null,
   "id": "beff580e",
   "metadata": {},
   "outputs": [],
   "source": [
    "# Define schema for personal_detail\n",
    "personal_schema = StructType([\n",
    "    StructField(\"person_name\", StringType()),\n",
    "    StructField(\"gender\", StringType()),\n",
    "    StructField(\"address\", StringType()),\n",
    "    StructField(\"lat\", StringType()),\n",
    "    StructField(\"long\", StringType()),\n",
    "    StructField(\"city_pop\", StringType()),\n",
    "    StructField(\"job\", StringType()),\n",
    "    StructField(\"dob\", StringType())\n",
    "])\n",
    "\n",
    "# Parse the personal_detail JSON string\n",
    "df = df_raw.withColumn(\"personal_detail_json\", from_json(\"personal_detail\", personal_schema)).drop(\"personal_detail\")"
   ]
  },
  {
   "cell_type": "code",
   "execution_count": null,
   "id": "39550f48",
   "metadata": {},
   "outputs": [],
   "source": [
    "# Define address schema\n",
    "address_schema = StructType([\n",
    "    StructField(\"street\", StringType()),\n",
    "    StructField(\"city\", StringType()),\n",
    "    StructField(\"state\", StringType()),\n",
    "    StructField(\"zip\", StringType())\n",
    "])\n",
    "\n",
    "df = df.withColumn(\"address_json\", from_json(\"personal_detail_json.address\", address_schema))"
   ]
  },
  {
   "cell_type": "code",
   "execution_count": null,
   "id": "e16ecd0b",
   "metadata": {},
   "outputs": [],
   "source": [
    "# Extract and flatten fields\n",
    "df = df \\\n",
    "    .withColumn(\"first\", split(col(\"personal_detail_json.person_name\"), \"[,@/]\")[0]) \\\n",
    "    .withColumn(\"last\", split(col(\"personal_detail_json.person_name\"), \"[,@/]\")[1]) \\\n",
    "    .withColumn(\"gender\", col(\"personal_detail_json.gender\")) \\\n",
    "    .withColumn(\"dob\", col(\"personal_detail_json.dob\")) \\\n",
    "    .withColumn(\"street\", col(\"address_json.street\")) \\\n",
    "    .withColumn(\"city\", col(\"address_json.city\")) \\\n",
    "    .withColumn(\"state\", col(\"address_json.state\")) \\\n",
    "    .withColumn(\"zip\", col(\"address_json.zip\")) \\\n",
    "    .withColumn(\"lat\", col(\"personal_detail_json.lat\").cast(\"double\")) \\\n",
    "    .withColumn(\"long\", col(\"personal_detail_json.long\").cast(\"double\")) \\\n",
    "    .withColumn(\"city_pop\", col(\"personal_detail_json.city_pop\").cast(\"int\")) \\\n",
    "    .withColumn(\"job\", col(\"personal_detail_json.job\")) \\\n",
    "    .drop(\"personal_detail_json\", \"address_json\")"
   ]
  },
  {
   "cell_type": "code",
   "execution_count": null,
   "id": "2d4ef1f8",
   "metadata": {},
   "outputs": [],
   "source": [
    "# Convert epoch microseconds to timestamp\n",
    "def convert_epoch_microseconds(colname):\n",
    "    return from_utc_timestamp((col(colname) / 1000000).cast(\"timestamp\"), \"Asia/Kuala_Lumpur\")\n",
    "\n",
    "df = df \\\n",
    "    .withColumn(\"trans_date_trans_time\", to_timestamp(\"trans_date_trans_time\")) \\\n",
    "    .withColumn(\"merch_last_update_time\", convert_epoch_microseconds(\"merch_last_update_time\")) \\\n",
    "    .withColumn(\"merch_eff_time\", convert_epoch_microseconds(\"merch_eff_time\"))"
   ]
  },
  {
   "cell_type": "code",
   "execution_count": null,
   "id": "b65d6dfa",
   "metadata": {},
   "outputs": [],
   "source": [
    "# Mask sensitive credit card number\n",
    "df = df.withColumn(\"cc_num_masked\", sha2(col(\"cc_num\"), 256))"
   ]
  },
  {
   "cell_type": "code",
   "execution_count": null,
   "id": "84c2ebad",
   "metadata": {},
   "outputs": [],
   "source": [
    "df.select(\"first\", \"last\", \"gender\", \"amt\", \"category\", \"is_fraud\").show(5)"
   ]
  },
  {
   "cell_type": "code",
   "execution_count": null,
   "id": "acdab99c",
   "metadata": {},
   "outputs": [],
   "source": [
    "# Convert to Pandas for visualization\n",
    "pdf = df.select(\"category\", \"amt\", \"is_fraud\").toPandas()\n",
    "\n",
    "import seaborn as sns\n",
    "import matplotlib.pyplot as plt\n",
    "\n",
    "plt.figure(figsize=(12,6))\n",
    "sns.countplot(data=pdf, x=\"category\", hue=\"is_fraud\")\n",
    "plt.title(\"Fraud Cases by Category\")\n",
    "plt.xticks(rotation=45)\n",
    "plt.tight_layout()\n",
    "plt.show()"
   ]
  }
 ],
 "metadata": {},
 "nbformat": 4,
 "nbformat_minor": 5
}